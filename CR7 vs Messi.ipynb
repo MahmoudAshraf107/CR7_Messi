{
 "cells": [
  {
   "cell_type": "markdown",
   "metadata": {},
   "source": [
    "# Dataset \n",
    "--------------------\n",
    "The dataset consists of Four Files containing all goals with Clubs of \n",
    "1. Leo Messi. \n",
    "2. Cristiano Ronaldo.\n",
    "* Data Columns\n",
    "1. Season on the Goal\n",
    "2. Competition\t\n",
    "3. Matchday\t\n",
    "4. Date\t \n",
    "5. Venue\t\n",
    "6. Club\t\n",
    "7. Opponent\t\n",
    "8. Result\t\n",
    "9. Playing_Position\t\n",
    "10. Minute\t\n",
    "11. At_score\t\n",
    "12. Type\t\n",
    "13. Goal_assist\n",
    "\n",
    "# Analysis Points:\n",
    "1. Free Goal and Penalty of each player.\n",
    "2. The most players Make Assist for of each player.\n",
    "3. The Goals in Each Season/Year and Club.\n",
    "4. the Goals Distribution in match minutes.\n",
    "5. Player poistion in each club."
   ]
  },
  {
   "cell_type": "markdown",
   "metadata": {},
   "source": [
    "# preparing the environment\n",
    "------------------------------"
   ]
  },
  {
   "cell_type": "markdown",
   "metadata": {},
   "source": [
    "Importing Required Modules and Libraries"
   ]
  },
  {
   "cell_type": "code",
   "execution_count": 421,
   "metadata": {},
   "outputs": [],
   "source": [
    "import pandas as pd\n",
    "import numpy as np\n",
    "import matplotlib.pyplot as plt\n",
    "import datetime\n",
    "import seaborn as sns\n",
    "import re"
   ]
  },
  {
   "cell_type": "markdown",
   "metadata": {},
   "source": [
    "Read Dataset From CSV Files"
   ]
  },
  {
   "cell_type": "code",
   "execution_count": 422,
   "metadata": {},
   "outputs": [],
   "source": [
    "Path_CR7='C:/Users/MahmoudAshraf/Desktop/CR7 vs Messi/CR7_data.csv'\n",
    "Path_Messi='C:/Users/MahmoudAshraf/Desktop/CR7 vs Messi/Messi_data.csv'\n",
    "Path_CR7_overall='C:/Users/MahmoudAshraf/Desktop/CR7 vs Messi/CR7_overall.csv'\n",
    "Path_Messi_overall='C:/Users/MahmoudAshraf/Desktop/CR7 vs Messi/Messi_overall.csv'\n",
    "raw_CR7=pd.read_csv(Path_CR7)\n",
    "raw_Messi=pd.read_csv(Path_Messi)\n",
    "CR7_overall=pd.read_csv(Path_CR7_overall)\n",
    "Messi_overall=pd.read_csv(Path_Messi_overall)"
   ]
  },
  {
   "cell_type": "markdown",
   "metadata": {},
   "source": [
    "# Data Exploration\n",
    "-------------------------------"
   ]
  },
  {
   "cell_type": "markdown",
   "metadata": {},
   "source": [
    "Show The DataFrames"
   ]
  },
  {
   "cell_type": "code",
   "execution_count": 423,
   "metadata": {},
   "outputs": [
    {
     "data": {
      "text/html": [
       "<div>\n",
       "<style scoped>\n",
       "    .dataframe tbody tr th:only-of-type {\n",
       "        vertical-align: middle;\n",
       "    }\n",
       "\n",
       "    .dataframe tbody tr th {\n",
       "        vertical-align: top;\n",
       "    }\n",
       "\n",
       "    .dataframe thead th {\n",
       "        text-align: right;\n",
       "    }\n",
       "</style>\n",
       "<table border=\"1\" class=\"dataframe\">\n",
       "  <thead>\n",
       "    <tr style=\"text-align: right;\">\n",
       "      <th></th>\n",
       "      <th>Season</th>\n",
       "      <th>Competition</th>\n",
       "      <th>Matchday</th>\n",
       "      <th>Date</th>\n",
       "      <th>Venue</th>\n",
       "      <th>Club</th>\n",
       "      <th>Opponent</th>\n",
       "      <th>Result</th>\n",
       "      <th>Playing_Position</th>\n",
       "      <th>Minute</th>\n",
       "      <th>At_score</th>\n",
       "      <th>Type</th>\n",
       "      <th>Goal_assist</th>\n",
       "    </tr>\n",
       "  </thead>\n",
       "  <tbody>\n",
       "    <tr>\n",
       "      <th>0</th>\n",
       "      <td>02/03</td>\n",
       "      <td>Liga Portugal</td>\n",
       "      <td>6</td>\n",
       "      <td>10/7/02</td>\n",
       "      <td>H</td>\n",
       "      <td>Sporting CP</td>\n",
       "      <td>Moreirense FC</td>\n",
       "      <td>3:0</td>\n",
       "      <td>LW</td>\n",
       "      <td>34</td>\n",
       "      <td>2:0</td>\n",
       "      <td>Solo run</td>\n",
       "      <td>NaN</td>\n",
       "    </tr>\n",
       "    <tr>\n",
       "      <th>1</th>\n",
       "      <td>02/03</td>\n",
       "      <td>Liga Portugal</td>\n",
       "      <td>6</td>\n",
       "      <td>10/7/02</td>\n",
       "      <td>H</td>\n",
       "      <td>Sporting CP</td>\n",
       "      <td>Moreirense FC</td>\n",
       "      <td>3:0</td>\n",
       "      <td>LW</td>\n",
       "      <td>90+5</td>\n",
       "      <td>3:0</td>\n",
       "      <td>Header</td>\n",
       "      <td>Rui Jorge</td>\n",
       "    </tr>\n",
       "    <tr>\n",
       "      <th>2</th>\n",
       "      <td>02/03</td>\n",
       "      <td>Liga Portugal</td>\n",
       "      <td>8</td>\n",
       "      <td>10/26/02</td>\n",
       "      <td>A</td>\n",
       "      <td>Sporting CP</td>\n",
       "      <td>Boavista FC</td>\n",
       "      <td>1:2</td>\n",
       "      <td>NaN</td>\n",
       "      <td>88</td>\n",
       "      <td>1:2</td>\n",
       "      <td>Right-footed shot</td>\n",
       "      <td>Carlos Martins</td>\n",
       "    </tr>\n",
       "    <tr>\n",
       "      <th>3</th>\n",
       "      <td>02/03</td>\n",
       "      <td>Taca de Portugal Placard</td>\n",
       "      <td>Fourth Round</td>\n",
       "      <td>11/24/02</td>\n",
       "      <td>H</td>\n",
       "      <td>Sporting CP</td>\n",
       "      <td>CD Estarreja</td>\n",
       "      <td>4:1</td>\n",
       "      <td>NaN</td>\n",
       "      <td>67</td>\n",
       "      <td>3:0</td>\n",
       "      <td>Left-footed shot</td>\n",
       "      <td>Cesar Prates</td>\n",
       "    </tr>\n",
       "    <tr>\n",
       "      <th>4</th>\n",
       "      <td>02/03</td>\n",
       "      <td>Taca de Portugal Placard</td>\n",
       "      <td>Fifth Round</td>\n",
       "      <td>12/18/02</td>\n",
       "      <td>H</td>\n",
       "      <td>Sporting CP</td>\n",
       "      <td>FC Oliveira do Hospital</td>\n",
       "      <td>8:1</td>\n",
       "      <td>NaN</td>\n",
       "      <td>13</td>\n",
       "      <td>3:0</td>\n",
       "      <td>NaN</td>\n",
       "      <td>NaN</td>\n",
       "    </tr>\n",
       "  </tbody>\n",
       "</table>\n",
       "</div>"
      ],
      "text/plain": [
       "  Season               Competition      Matchday      Date Venue         Club  \\\n",
       "0  02/03             Liga Portugal             6   10/7/02     H  Sporting CP   \n",
       "1  02/03             Liga Portugal             6   10/7/02     H  Sporting CP   \n",
       "2  02/03             Liga Portugal             8  10/26/02     A  Sporting CP   \n",
       "3  02/03  Taca de Portugal Placard  Fourth Round  11/24/02     H  Sporting CP   \n",
       "4  02/03  Taca de Portugal Placard   Fifth Round  12/18/02     H  Sporting CP   \n",
       "\n",
       "                  Opponent Result Playing_Position Minute At_score  \\\n",
       "0            Moreirense FC    3:0               LW     34      2:0   \n",
       "1            Moreirense FC    3:0               LW   90+5      3:0   \n",
       "2              Boavista FC    1:2              NaN     88      1:2   \n",
       "3             CD Estarreja    4:1              NaN     67      3:0   \n",
       "4  FC Oliveira do Hospital    8:1              NaN     13      3:0   \n",
       "\n",
       "                Type     Goal_assist  \n",
       "0           Solo run             NaN  \n",
       "1             Header       Rui Jorge  \n",
       "2  Right-footed shot  Carlos Martins  \n",
       "3   Left-footed shot    Cesar Prates  \n",
       "4                NaN             NaN  "
      ]
     },
     "execution_count": 423,
     "metadata": {},
     "output_type": "execute_result"
    }
   ],
   "source": [
    "raw_CR7.head()"
   ]
  },
  {
   "cell_type": "code",
   "execution_count": 424,
   "metadata": {},
   "outputs": [
    {
     "data": {
      "text/html": [
       "<div>\n",
       "<style scoped>\n",
       "    .dataframe tbody tr th:only-of-type {\n",
       "        vertical-align: middle;\n",
       "    }\n",
       "\n",
       "    .dataframe tbody tr th {\n",
       "        vertical-align: top;\n",
       "    }\n",
       "\n",
       "    .dataframe thead th {\n",
       "        text-align: right;\n",
       "    }\n",
       "</style>\n",
       "<table border=\"1\" class=\"dataframe\">\n",
       "  <thead>\n",
       "    <tr style=\"text-align: right;\">\n",
       "      <th></th>\n",
       "      <th>Season</th>\n",
       "      <th>Competition</th>\n",
       "      <th>Matchday</th>\n",
       "      <th>Date</th>\n",
       "      <th>Venue</th>\n",
       "      <th>Club</th>\n",
       "      <th>Opponent</th>\n",
       "      <th>Result</th>\n",
       "      <th>Playing_Position</th>\n",
       "      <th>Minute</th>\n",
       "      <th>At_score</th>\n",
       "      <th>Type</th>\n",
       "      <th>Goal_assist</th>\n",
       "    </tr>\n",
       "  </thead>\n",
       "  <tbody>\n",
       "    <tr>\n",
       "      <th>0</th>\n",
       "      <td>04/05</td>\n",
       "      <td>LaLiga</td>\n",
       "      <td>34</td>\n",
       "      <td>5/1/05</td>\n",
       "      <td>H</td>\n",
       "      <td>FC Barcelona</td>\n",
       "      <td>Albacete Balompie</td>\n",
       "      <td>2:0</td>\n",
       "      <td>CF</td>\n",
       "      <td>90+1</td>\n",
       "      <td>2:0</td>\n",
       "      <td>Left-footed shot</td>\n",
       "      <td>Ronaldinho Gaacho</td>\n",
       "    </tr>\n",
       "    <tr>\n",
       "      <th>1</th>\n",
       "      <td>05/06</td>\n",
       "      <td>UEFA Champions League</td>\n",
       "      <td>Group Stage</td>\n",
       "      <td>11/2/05</td>\n",
       "      <td>H</td>\n",
       "      <td>FC Barcelona</td>\n",
       "      <td>Panathinaikos Athens</td>\n",
       "      <td>5:0</td>\n",
       "      <td>RW</td>\n",
       "      <td>34</td>\n",
       "      <td>3:0</td>\n",
       "      <td>Left-footed shot</td>\n",
       "      <td>NaN</td>\n",
       "    </tr>\n",
       "    <tr>\n",
       "      <th>2</th>\n",
       "      <td>05/06</td>\n",
       "      <td>LaLiga</td>\n",
       "      <td>13</td>\n",
       "      <td>11/27/05</td>\n",
       "      <td>H</td>\n",
       "      <td>FC Barcelona</td>\n",
       "      <td>Racing Santander</td>\n",
       "      <td>4:1</td>\n",
       "      <td>RW</td>\n",
       "      <td>51</td>\n",
       "      <td>2:0</td>\n",
       "      <td>Left-footed shot</td>\n",
       "      <td>Samuel Etoo</td>\n",
       "    </tr>\n",
       "    <tr>\n",
       "      <th>3</th>\n",
       "      <td>05/06</td>\n",
       "      <td>LaLiga</td>\n",
       "      <td>19</td>\n",
       "      <td>1/15/06</td>\n",
       "      <td>H</td>\n",
       "      <td>FC Barcelona</td>\n",
       "      <td>Athletic Bilbao</td>\n",
       "      <td>2:1</td>\n",
       "      <td>RW</td>\n",
       "      <td>50</td>\n",
       "      <td>2:1</td>\n",
       "      <td>Left-footed shot</td>\n",
       "      <td>Mark van Bommel</td>\n",
       "    </tr>\n",
       "    <tr>\n",
       "      <th>4</th>\n",
       "      <td>05/06</td>\n",
       "      <td>LaLiga</td>\n",
       "      <td>20</td>\n",
       "      <td>1/22/06</td>\n",
       "      <td>H</td>\n",
       "      <td>FC Barcelona</td>\n",
       "      <td>Deportivo Alaves</td>\n",
       "      <td>2:0</td>\n",
       "      <td>CF</td>\n",
       "      <td>82</td>\n",
       "      <td>2:0</td>\n",
       "      <td>Left-footed shot</td>\n",
       "      <td>Ronaldinho Gaacho</td>\n",
       "    </tr>\n",
       "  </tbody>\n",
       "</table>\n",
       "</div>"
      ],
      "text/plain": [
       "  Season            Competition     Matchday      Date Venue          Club  \\\n",
       "0  04/05                 LaLiga           34    5/1/05     H  FC Barcelona   \n",
       "1  05/06  UEFA Champions League  Group Stage   11/2/05     H  FC Barcelona   \n",
       "2  05/06                 LaLiga           13  11/27/05     H  FC Barcelona   \n",
       "3  05/06                 LaLiga           19   1/15/06     H  FC Barcelona   \n",
       "4  05/06                 LaLiga           20   1/22/06     H  FC Barcelona   \n",
       "\n",
       "               Opponent Result Playing_Position Minute At_score  \\\n",
       "0     Albacete Balompie    2:0               CF   90+1      2:0   \n",
       "1  Panathinaikos Athens    5:0               RW     34      3:0   \n",
       "2      Racing Santander    4:1               RW     51      2:0   \n",
       "3       Athletic Bilbao    2:1               RW     50      2:1   \n",
       "4      Deportivo Alaves    2:0               CF     82      2:0   \n",
       "\n",
       "               Type        Goal_assist  \n",
       "0  Left-footed shot  Ronaldinho Gaacho  \n",
       "1  Left-footed shot                NaN  \n",
       "2  Left-footed shot        Samuel Etoo  \n",
       "3  Left-footed shot    Mark van Bommel  \n",
       "4  Left-footed shot  Ronaldinho Gaacho  "
      ]
     },
     "execution_count": 424,
     "metadata": {},
     "output_type": "execute_result"
    }
   ],
   "source": [
    "raw_Messi.head()"
   ]
  },
  {
   "cell_type": "markdown",
   "metadata": {},
   "source": [
    "Overall Statistics"
   ]
  },
  {
   "cell_type": "code",
   "execution_count": 425,
   "metadata": {},
   "outputs": [
    {
     "data": {
      "text/html": [
       "<div>\n",
       "<style scoped>\n",
       "    .dataframe tbody tr th:only-of-type {\n",
       "        vertical-align: middle;\n",
       "    }\n",
       "\n",
       "    .dataframe tbody tr th {\n",
       "        vertical-align: top;\n",
       "    }\n",
       "\n",
       "    .dataframe thead th {\n",
       "        text-align: right;\n",
       "    }\n",
       "</style>\n",
       "<table border=\"1\" class=\"dataframe\">\n",
       "  <thead>\n",
       "    <tr style=\"text-align: right;\">\n",
       "      <th></th>\n",
       "      <th>Matches</th>\n",
       "      <th>Goals</th>\n",
       "      <th>Wiins</th>\n",
       "      <th>Draws</th>\n",
       "      <th>Defeats</th>\n",
       "      <th>Points_average</th>\n",
       "      <th>Game_winning_goals</th>\n",
       "    </tr>\n",
       "  </thead>\n",
       "  <tbody>\n",
       "    <tr>\n",
       "      <th>0</th>\n",
       "      <td>461</td>\n",
       "      <td>698</td>\n",
       "      <td>386</td>\n",
       "      <td>44</td>\n",
       "      <td>31</td>\n",
       "      <td>2.61</td>\n",
       "      <td>219</td>\n",
       "    </tr>\n",
       "  </tbody>\n",
       "</table>\n",
       "</div>"
      ],
      "text/plain": [
       "   Matches  Goals  Wiins  Draws  Defeats  Points_average  Game_winning_goals\n",
       "0      461    698    386     44       31            2.61                 219"
      ]
     },
     "execution_count": 425,
     "metadata": {},
     "output_type": "execute_result"
    }
   ],
   "source": [
    "CR7_overall"
   ]
  },
  {
   "cell_type": "code",
   "execution_count": 426,
   "metadata": {},
   "outputs": [
    {
     "data": {
      "text/html": [
       "<div>\n",
       "<style scoped>\n",
       "    .dataframe tbody tr th:only-of-type {\n",
       "        vertical-align: middle;\n",
       "    }\n",
       "\n",
       "    .dataframe tbody tr th {\n",
       "        vertical-align: top;\n",
       "    }\n",
       "\n",
       "    .dataframe thead th {\n",
       "        text-align: right;\n",
       "    }\n",
       "</style>\n",
       "<table border=\"1\" class=\"dataframe\">\n",
       "  <thead>\n",
       "    <tr style=\"text-align: right;\">\n",
       "      <th></th>\n",
       "      <th>Matches</th>\n",
       "      <th>Goals</th>\n",
       "      <th>Wiins</th>\n",
       "      <th>Draws</th>\n",
       "      <th>Defeats</th>\n",
       "      <th>Points_average</th>\n",
       "      <th>Game_winning_goals</th>\n",
       "    </tr>\n",
       "  </thead>\n",
       "  <tbody>\n",
       "    <tr>\n",
       "      <th>0</th>\n",
       "      <td>439</td>\n",
       "      <td>683</td>\n",
       "      <td>372</td>\n",
       "      <td>46</td>\n",
       "      <td>21</td>\n",
       "      <td>2.65</td>\n",
       "      <td>183</td>\n",
       "    </tr>\n",
       "  </tbody>\n",
       "</table>\n",
       "</div>"
      ],
      "text/plain": [
       "   Matches  Goals  Wiins  Draws  Defeats  Points_average  Game_winning_goals\n",
       "0      439    683    372     46       21            2.65                 183"
      ]
     },
     "execution_count": 426,
     "metadata": {},
     "output_type": "execute_result"
    }
   ],
   "source": [
    "Messi_overall"
   ]
  },
  {
   "cell_type": "markdown",
   "metadata": {},
   "source": [
    "Show Samples From DataFrames"
   ]
  },
  {
   "cell_type": "code",
   "execution_count": 427,
   "metadata": {},
   "outputs": [
    {
     "data": {
      "text/html": [
       "<div>\n",
       "<style scoped>\n",
       "    .dataframe tbody tr th:only-of-type {\n",
       "        vertical-align: middle;\n",
       "    }\n",
       "\n",
       "    .dataframe tbody tr th {\n",
       "        vertical-align: top;\n",
       "    }\n",
       "\n",
       "    .dataframe thead th {\n",
       "        text-align: right;\n",
       "    }\n",
       "</style>\n",
       "<table border=\"1\" class=\"dataframe\">\n",
       "  <thead>\n",
       "    <tr style=\"text-align: right;\">\n",
       "      <th></th>\n",
       "      <th>Season</th>\n",
       "      <th>Competition</th>\n",
       "      <th>Matchday</th>\n",
       "      <th>Date</th>\n",
       "      <th>Venue</th>\n",
       "      <th>Club</th>\n",
       "      <th>Opponent</th>\n",
       "      <th>Result</th>\n",
       "      <th>Playing_Position</th>\n",
       "      <th>Minute</th>\n",
       "      <th>At_score</th>\n",
       "      <th>Type</th>\n",
       "      <th>Goal_assist</th>\n",
       "    </tr>\n",
       "  </thead>\n",
       "  <tbody>\n",
       "    <tr>\n",
       "      <th>372</th>\n",
       "      <td>13/14</td>\n",
       "      <td>UEFA Champions League</td>\n",
       "      <td>Semi-Finals</td>\n",
       "      <td>4/29/14</td>\n",
       "      <td>A</td>\n",
       "      <td>Real Madrid</td>\n",
       "      <td>Bayern Munich</td>\n",
       "      <td>0:4</td>\n",
       "      <td>LW</td>\n",
       "      <td>90</td>\n",
       "      <td>0:4</td>\n",
       "      <td>Direct free kick</td>\n",
       "      <td>NaN</td>\n",
       "    </tr>\n",
       "    <tr>\n",
       "      <th>500</th>\n",
       "      <td>16/17</td>\n",
       "      <td>FIFA Club World Cup</td>\n",
       "      <td>Final</td>\n",
       "      <td>12/18/16</td>\n",
       "      <td>H</td>\n",
       "      <td>Real Madrid</td>\n",
       "      <td>Kashima Antlers</td>\n",
       "      <td>4:2 AET</td>\n",
       "      <td>LW</td>\n",
       "      <td>60</td>\n",
       "      <td>2:2</td>\n",
       "      <td>Penalty</td>\n",
       "      <td>NaN</td>\n",
       "    </tr>\n",
       "    <tr>\n",
       "      <th>45</th>\n",
       "      <td>06/07</td>\n",
       "      <td>Premier League</td>\n",
       "      <td>25</td>\n",
       "      <td>1/31/07</td>\n",
       "      <td>H</td>\n",
       "      <td>Manchester United</td>\n",
       "      <td>Watford FC</td>\n",
       "      <td>4:0</td>\n",
       "      <td>RW</td>\n",
       "      <td>12</td>\n",
       "      <td>1:0</td>\n",
       "      <td>Penalty</td>\n",
       "      <td>NaN</td>\n",
       "    </tr>\n",
       "    <tr>\n",
       "      <th>509</th>\n",
       "      <td>16/17</td>\n",
       "      <td>LaLiga</td>\n",
       "      <td>24</td>\n",
       "      <td>2/26/17</td>\n",
       "      <td>A</td>\n",
       "      <td>Real Madrid</td>\n",
       "      <td>Villarreal CF</td>\n",
       "      <td>2:3</td>\n",
       "      <td>LW</td>\n",
       "      <td>74</td>\n",
       "      <td>2:2</td>\n",
       "      <td>Penalty</td>\n",
       "      <td>NaN</td>\n",
       "    </tr>\n",
       "    <tr>\n",
       "      <th>314</th>\n",
       "      <td>12/13</td>\n",
       "      <td>LaLiga</td>\n",
       "      <td>30</td>\n",
       "      <td>4/6/13</td>\n",
       "      <td>H</td>\n",
       "      <td>Real Madrid</td>\n",
       "      <td>Levante UD</td>\n",
       "      <td>5:1</td>\n",
       "      <td>CF</td>\n",
       "      <td>84</td>\n",
       "      <td>3:1</td>\n",
       "      <td>Right-footed shot</td>\n",
       "      <td>Gonzalo Higuain</td>\n",
       "    </tr>\n",
       "    <tr>\n",
       "      <th>260</th>\n",
       "      <td>11/12</td>\n",
       "      <td>LaLiga</td>\n",
       "      <td>33</td>\n",
       "      <td>4/11/12</td>\n",
       "      <td>A</td>\n",
       "      <td>Real Madrid</td>\n",
       "      <td>Atletico de Madrid</td>\n",
       "      <td>1:4</td>\n",
       "      <td>LW</td>\n",
       "      <td>82</td>\n",
       "      <td>1:3</td>\n",
       "      <td>Penalty</td>\n",
       "      <td>NaN</td>\n",
       "    </tr>\n",
       "    <tr>\n",
       "      <th>565</th>\n",
       "      <td>17/18</td>\n",
       "      <td>LaLiga</td>\n",
       "      <td>29</td>\n",
       "      <td>3/18/18</td>\n",
       "      <td>H</td>\n",
       "      <td>Real Madrid</td>\n",
       "      <td>Girona FC</td>\n",
       "      <td>6:3</td>\n",
       "      <td>CF</td>\n",
       "      <td>90+1</td>\n",
       "      <td>6:3</td>\n",
       "      <td>Right-footed shot</td>\n",
       "      <td>Toni Kroos</td>\n",
       "    </tr>\n",
       "    <tr>\n",
       "      <th>155</th>\n",
       "      <td>09/10</td>\n",
       "      <td>LaLiga</td>\n",
       "      <td>37</td>\n",
       "      <td>5/8/10</td>\n",
       "      <td>H</td>\n",
       "      <td>Real Madrid</td>\n",
       "      <td>Athletic Bilbao</td>\n",
       "      <td>5:1</td>\n",
       "      <td>CF</td>\n",
       "      <td>21</td>\n",
       "      <td>1:0</td>\n",
       "      <td>Penalty</td>\n",
       "      <td>NaN</td>\n",
       "    </tr>\n",
       "    <tr>\n",
       "      <th>356</th>\n",
       "      <td>13/14</td>\n",
       "      <td>Copa del Rey</td>\n",
       "      <td>Semi-Finals</td>\n",
       "      <td>2/11/14</td>\n",
       "      <td>A</td>\n",
       "      <td>Real Madrid</td>\n",
       "      <td>Atletico de Madrid</td>\n",
       "      <td>0:2</td>\n",
       "      <td>LW</td>\n",
       "      <td>6</td>\n",
       "      <td>0:1</td>\n",
       "      <td>Penalty</td>\n",
       "      <td>NaN</td>\n",
       "    </tr>\n",
       "    <tr>\n",
       "      <th>75</th>\n",
       "      <td>07/08</td>\n",
       "      <td>Premier League</td>\n",
       "      <td>22</td>\n",
       "      <td>1/12/08</td>\n",
       "      <td>H</td>\n",
       "      <td>Manchester United</td>\n",
       "      <td>Newcastle United</td>\n",
       "      <td>6:0</td>\n",
       "      <td>RW</td>\n",
       "      <td>70</td>\n",
       "      <td>3:0</td>\n",
       "      <td>Right-footed shot</td>\n",
       "      <td>Carlos Tevez</td>\n",
       "    </tr>\n",
       "  </tbody>\n",
       "</table>\n",
       "</div>"
      ],
      "text/plain": [
       "    Season            Competition     Matchday      Date Venue  \\\n",
       "372  13/14  UEFA Champions League  Semi-Finals   4/29/14     A   \n",
       "500  16/17    FIFA Club World Cup        Final  12/18/16     H   \n",
       "45   06/07         Premier League           25   1/31/07     H   \n",
       "509  16/17                 LaLiga           24   2/26/17     A   \n",
       "314  12/13                 LaLiga           30    4/6/13     H   \n",
       "260  11/12                 LaLiga           33   4/11/12     A   \n",
       "565  17/18                 LaLiga           29   3/18/18     H   \n",
       "155  09/10                 LaLiga           37    5/8/10     H   \n",
       "356  13/14           Copa del Rey  Semi-Finals   2/11/14     A   \n",
       "75   07/08         Premier League           22   1/12/08     H   \n",
       "\n",
       "                  Club            Opponent   Result Playing_Position Minute  \\\n",
       "372        Real Madrid       Bayern Munich      0:4               LW     90   \n",
       "500        Real Madrid     Kashima Antlers  4:2 AET               LW     60   \n",
       "45   Manchester United          Watford FC      4:0               RW     12   \n",
       "509        Real Madrid       Villarreal CF      2:3               LW     74   \n",
       "314        Real Madrid          Levante UD      5:1               CF     84   \n",
       "260        Real Madrid  Atletico de Madrid      1:4               LW     82   \n",
       "565        Real Madrid           Girona FC      6:3               CF   90+1   \n",
       "155        Real Madrid     Athletic Bilbao      5:1               CF     21   \n",
       "356        Real Madrid  Atletico de Madrid      0:2               LW      6   \n",
       "75   Manchester United    Newcastle United      6:0               RW     70   \n",
       "\n",
       "    At_score               Type      Goal_assist  \n",
       "372      0:4   Direct free kick              NaN  \n",
       "500      2:2            Penalty              NaN  \n",
       "45       1:0            Penalty              NaN  \n",
       "509      2:2            Penalty              NaN  \n",
       "314      3:1  Right-footed shot  Gonzalo Higuain  \n",
       "260      1:3            Penalty              NaN  \n",
       "565      6:3  Right-footed shot       Toni Kroos  \n",
       "155      1:0            Penalty              NaN  \n",
       "356      0:1            Penalty              NaN  \n",
       "75       3:0  Right-footed shot     Carlos Tevez  "
      ]
     },
     "execution_count": 427,
     "metadata": {},
     "output_type": "execute_result"
    }
   ],
   "source": [
    "raw_CR7.sample(10)"
   ]
  },
  {
   "cell_type": "code",
   "execution_count": 428,
   "metadata": {},
   "outputs": [
    {
     "data": {
      "text/html": [
       "<div>\n",
       "<style scoped>\n",
       "    .dataframe tbody tr th:only-of-type {\n",
       "        vertical-align: middle;\n",
       "    }\n",
       "\n",
       "    .dataframe tbody tr th {\n",
       "        vertical-align: top;\n",
       "    }\n",
       "\n",
       "    .dataframe thead th {\n",
       "        text-align: right;\n",
       "    }\n",
       "</style>\n",
       "<table border=\"1\" class=\"dataframe\">\n",
       "  <thead>\n",
       "    <tr style=\"text-align: right;\">\n",
       "      <th></th>\n",
       "      <th>Season</th>\n",
       "      <th>Competition</th>\n",
       "      <th>Matchday</th>\n",
       "      <th>Date</th>\n",
       "      <th>Venue</th>\n",
       "      <th>Club</th>\n",
       "      <th>Opponent</th>\n",
       "      <th>Result</th>\n",
       "      <th>Playing_Position</th>\n",
       "      <th>Minute</th>\n",
       "      <th>At_score</th>\n",
       "      <th>Type</th>\n",
       "      <th>Goal_assist</th>\n",
       "    </tr>\n",
       "  </thead>\n",
       "  <tbody>\n",
       "    <tr>\n",
       "      <th>1</th>\n",
       "      <td>05/06</td>\n",
       "      <td>UEFA Champions League</td>\n",
       "      <td>Group Stage</td>\n",
       "      <td>11/2/05</td>\n",
       "      <td>H</td>\n",
       "      <td>FC Barcelona</td>\n",
       "      <td>Panathinaikos Athens</td>\n",
       "      <td>5:0</td>\n",
       "      <td>RW</td>\n",
       "      <td>34</td>\n",
       "      <td>3:0</td>\n",
       "      <td>Left-footed shot</td>\n",
       "      <td>NaN</td>\n",
       "    </tr>\n",
       "    <tr>\n",
       "      <th>226</th>\n",
       "      <td>11/12</td>\n",
       "      <td>UEFA Champions League</td>\n",
       "      <td>last 16</td>\n",
       "      <td>3/7/12</td>\n",
       "      <td>H</td>\n",
       "      <td>FC Barcelona</td>\n",
       "      <td>Bayer 04 Leverkusen</td>\n",
       "      <td>7:1</td>\n",
       "      <td>CF</td>\n",
       "      <td>58</td>\n",
       "      <td>5:0</td>\n",
       "      <td>Left-footed shot</td>\n",
       "      <td>NaN</td>\n",
       "    </tr>\n",
       "    <tr>\n",
       "      <th>332</th>\n",
       "      <td>13/14</td>\n",
       "      <td>LaLiga</td>\n",
       "      <td>23</td>\n",
       "      <td>2/9/14</td>\n",
       "      <td>A</td>\n",
       "      <td>FC Barcelona</td>\n",
       "      <td>Sevilla FC</td>\n",
       "      <td>1:4</td>\n",
       "      <td>CF</td>\n",
       "      <td>44</td>\n",
       "      <td>1:2</td>\n",
       "      <td>Left-footed shot</td>\n",
       "      <td>Pedro</td>\n",
       "    </tr>\n",
       "    <tr>\n",
       "      <th>393</th>\n",
       "      <td>14/15</td>\n",
       "      <td>LaLiga</td>\n",
       "      <td>26</td>\n",
       "      <td>3/8/15</td>\n",
       "      <td>H</td>\n",
       "      <td>FC Barcelona</td>\n",
       "      <td>Rayo Vallecano</td>\n",
       "      <td>6:1</td>\n",
       "      <td>RW</td>\n",
       "      <td>63</td>\n",
       "      <td>4:0</td>\n",
       "      <td>Tap-in</td>\n",
       "      <td>NaN</td>\n",
       "    </tr>\n",
       "    <tr>\n",
       "      <th>603</th>\n",
       "      <td>19/20</td>\n",
       "      <td>LaLiga</td>\n",
       "      <td>8</td>\n",
       "      <td>10/6/19</td>\n",
       "      <td>H</td>\n",
       "      <td>FC Barcelona</td>\n",
       "      <td>Sevilla FC</td>\n",
       "      <td>4:0</td>\n",
       "      <td>RW</td>\n",
       "      <td>78</td>\n",
       "      <td>4:0</td>\n",
       "      <td>Direct free kick</td>\n",
       "      <td>NaN</td>\n",
       "    </tr>\n",
       "    <tr>\n",
       "      <th>87</th>\n",
       "      <td>09/10</td>\n",
       "      <td>UEFA Champions League</td>\n",
       "      <td>Group Stage</td>\n",
       "      <td>9/29/09</td>\n",
       "      <td>H</td>\n",
       "      <td>FC Barcelona</td>\n",
       "      <td>Dynamo Kyiv</td>\n",
       "      <td>2:0</td>\n",
       "      <td>RW</td>\n",
       "      <td>25</td>\n",
       "      <td>1:0</td>\n",
       "      <td>Left-footed shot</td>\n",
       "      <td>Andres Iniesta</td>\n",
       "    </tr>\n",
       "    <tr>\n",
       "      <th>167</th>\n",
       "      <td>10/11</td>\n",
       "      <td>LaLiga</td>\n",
       "      <td>24</td>\n",
       "      <td>2/20/11</td>\n",
       "      <td>H</td>\n",
       "      <td>FC Barcelona</td>\n",
       "      <td>Athletic Bilbao</td>\n",
       "      <td>2:1</td>\n",
       "      <td>CF</td>\n",
       "      <td>78</td>\n",
       "      <td>2:1</td>\n",
       "      <td>Right-footed shot</td>\n",
       "      <td>Dani Alves</td>\n",
       "    </tr>\n",
       "    <tr>\n",
       "      <th>21</th>\n",
       "      <td>06/07</td>\n",
       "      <td>LaLiga</td>\n",
       "      <td>35</td>\n",
       "      <td>5/20/07</td>\n",
       "      <td>A</td>\n",
       "      <td>FC Barcelona</td>\n",
       "      <td>Atletico de Madrid</td>\n",
       "      <td>0:6</td>\n",
       "      <td>RW</td>\n",
       "      <td>80</td>\n",
       "      <td>0:5</td>\n",
       "      <td>Left-footed shot</td>\n",
       "      <td>Giovanni van Bronckhorst</td>\n",
       "    </tr>\n",
       "    <tr>\n",
       "      <th>356</th>\n",
       "      <td>14/15</td>\n",
       "      <td>LaLiga</td>\n",
       "      <td>4</td>\n",
       "      <td>9/21/14</td>\n",
       "      <td>A</td>\n",
       "      <td>FC Barcelona</td>\n",
       "      <td>Levante UD</td>\n",
       "      <td>0:5</td>\n",
       "      <td>CF</td>\n",
       "      <td>77</td>\n",
       "      <td>0:5</td>\n",
       "      <td>Right-footed shot</td>\n",
       "      <td>NaN</td>\n",
       "    </tr>\n",
       "    <tr>\n",
       "      <th>140</th>\n",
       "      <td>10/11</td>\n",
       "      <td>LaLiga</td>\n",
       "      <td>9</td>\n",
       "      <td>10/30/10</td>\n",
       "      <td>H</td>\n",
       "      <td>FC Barcelona</td>\n",
       "      <td>Sevilla FC</td>\n",
       "      <td>5:0</td>\n",
       "      <td>RW</td>\n",
       "      <td>63</td>\n",
       "      <td>4:0</td>\n",
       "      <td>Left-footed shot</td>\n",
       "      <td>NaN</td>\n",
       "    </tr>\n",
       "  </tbody>\n",
       "</table>\n",
       "</div>"
      ],
      "text/plain": [
       "    Season            Competition     Matchday      Date Venue          Club  \\\n",
       "1    05/06  UEFA Champions League  Group Stage   11/2/05     H  FC Barcelona   \n",
       "226  11/12  UEFA Champions League      last 16    3/7/12     H  FC Barcelona   \n",
       "332  13/14                 LaLiga           23    2/9/14     A  FC Barcelona   \n",
       "393  14/15                 LaLiga           26    3/8/15     H  FC Barcelona   \n",
       "603  19/20                 LaLiga            8   10/6/19     H  FC Barcelona   \n",
       "87   09/10  UEFA Champions League  Group Stage   9/29/09     H  FC Barcelona   \n",
       "167  10/11                 LaLiga           24   2/20/11     H  FC Barcelona   \n",
       "21   06/07                 LaLiga           35   5/20/07     A  FC Barcelona   \n",
       "356  14/15                 LaLiga            4   9/21/14     A  FC Barcelona   \n",
       "140  10/11                 LaLiga            9  10/30/10     H  FC Barcelona   \n",
       "\n",
       "                 Opponent Result Playing_Position Minute At_score  \\\n",
       "1    Panathinaikos Athens    5:0               RW     34      3:0   \n",
       "226   Bayer 04 Leverkusen    7:1               CF     58      5:0   \n",
       "332            Sevilla FC    1:4               CF     44      1:2   \n",
       "393        Rayo Vallecano    6:1               RW     63      4:0   \n",
       "603            Sevilla FC    4:0              RW      78      4:0   \n",
       "87            Dynamo Kyiv    2:0               RW     25      1:0   \n",
       "167       Athletic Bilbao    2:1               CF     78      2:1   \n",
       "21     Atletico de Madrid    0:6               RW     80      0:5   \n",
       "356            Levante UD    0:5               CF     77      0:5   \n",
       "140            Sevilla FC    5:0               RW     63      4:0   \n",
       "\n",
       "                  Type               Goal_assist  \n",
       "1     Left-footed shot                       NaN  \n",
       "226   Left-footed shot                       NaN  \n",
       "332   Left-footed shot                     Pedro  \n",
       "393             Tap-in                       NaN  \n",
       "603   Direct free kick                       NaN  \n",
       "87    Left-footed shot            Andres Iniesta  \n",
       "167  Right-footed shot                Dani Alves  \n",
       "21    Left-footed shot  Giovanni van Bronckhorst  \n",
       "356  Right-footed shot                       NaN  \n",
       "140   Left-footed shot                       NaN  "
      ]
     },
     "execution_count": 428,
     "metadata": {},
     "output_type": "execute_result"
    }
   ],
   "source": [
    "raw_Messi.sample(10)"
   ]
  },
  {
   "cell_type": "markdown",
   "metadata": {},
   "source": [
    "DataFrames Information"
   ]
  },
  {
   "cell_type": "code",
   "execution_count": 429,
   "metadata": {},
   "outputs": [
    {
     "name": "stdout",
     "output_type": "stream",
     "text": [
      "<class 'pandas.core.frame.DataFrame'>\n",
      "RangeIndex: 698 entries, 0 to 697\n",
      "Data columns (total 13 columns):\n",
      " #   Column            Non-Null Count  Dtype \n",
      "---  ------            --------------  ----- \n",
      " 0   Season            698 non-null    object\n",
      " 1   Competition       698 non-null    object\n",
      " 2   Matchday          698 non-null    object\n",
      " 3   Date              698 non-null    object\n",
      " 4   Venue             698 non-null    object\n",
      " 5   Club              698 non-null    object\n",
      " 6   Opponent          698 non-null    object\n",
      " 7   Result            698 non-null    object\n",
      " 8   Playing_Position  641 non-null    object\n",
      " 9   Minute            698 non-null    object\n",
      " 10  At_score          698 non-null    object\n",
      " 11  Type              683 non-null    object\n",
      " 12  Goal_assist       458 non-null    object\n",
      "dtypes: object(13)\n",
      "memory usage: 71.0+ KB\n"
     ]
    }
   ],
   "source": [
    "raw_CR7.info()"
   ]
  },
  {
   "cell_type": "code",
   "execution_count": 430,
   "metadata": {},
   "outputs": [
    {
     "name": "stdout",
     "output_type": "stream",
     "text": [
      "<class 'pandas.core.frame.DataFrame'>\n",
      "RangeIndex: 683 entries, 0 to 682\n",
      "Data columns (total 13 columns):\n",
      " #   Column            Non-Null Count  Dtype \n",
      "---  ------            --------------  ----- \n",
      " 0   Season            683 non-null    object\n",
      " 1   Competition       683 non-null    object\n",
      " 2   Matchday          683 non-null    object\n",
      " 3   Date              683 non-null    object\n",
      " 4   Venue             683 non-null    object\n",
      " 5   Club              683 non-null    object\n",
      " 6   Opponent          683 non-null    object\n",
      " 7   Result            683 non-null    object\n",
      " 8   Playing_Position  683 non-null    object\n",
      " 9   Minute            683 non-null    object\n",
      " 10  At_score          683 non-null    object\n",
      " 11  Type              682 non-null    object\n",
      " 12  Goal_assist       474 non-null    object\n",
      "dtypes: object(13)\n",
      "memory usage: 69.5+ KB\n"
     ]
    }
   ],
   "source": [
    "raw_Messi.info()"
   ]
  },
  {
   "cell_type": "code",
   "execution_count": 431,
   "metadata": {},
   "outputs": [
    {
     "data": {
      "text/html": [
       "<div>\n",
       "<style scoped>\n",
       "    .dataframe tbody tr th:only-of-type {\n",
       "        vertical-align: middle;\n",
       "    }\n",
       "\n",
       "    .dataframe tbody tr th {\n",
       "        vertical-align: top;\n",
       "    }\n",
       "\n",
       "    .dataframe thead th {\n",
       "        text-align: right;\n",
       "    }\n",
       "</style>\n",
       "<table border=\"1\" class=\"dataframe\">\n",
       "  <thead>\n",
       "    <tr style=\"text-align: right;\">\n",
       "      <th></th>\n",
       "      <th>Season</th>\n",
       "      <th>Competition</th>\n",
       "      <th>Matchday</th>\n",
       "      <th>Date</th>\n",
       "      <th>Venue</th>\n",
       "      <th>Club</th>\n",
       "      <th>Opponent</th>\n",
       "      <th>Result</th>\n",
       "      <th>Playing_Position</th>\n",
       "      <th>Minute</th>\n",
       "      <th>At_score</th>\n",
       "      <th>Type</th>\n",
       "      <th>Goal_assist</th>\n",
       "    </tr>\n",
       "  </thead>\n",
       "  <tbody>\n",
       "    <tr>\n",
       "      <th>count</th>\n",
       "      <td>698</td>\n",
       "      <td>698</td>\n",
       "      <td>698</td>\n",
       "      <td>698</td>\n",
       "      <td>698</td>\n",
       "      <td>698</td>\n",
       "      <td>698</td>\n",
       "      <td>698</td>\n",
       "      <td>641</td>\n",
       "      <td>698</td>\n",
       "      <td>698</td>\n",
       "      <td>683</td>\n",
       "      <td>458</td>\n",
       "    </tr>\n",
       "    <tr>\n",
       "      <th>unique</th>\n",
       "      <td>20</td>\n",
       "      <td>15</td>\n",
       "      <td>52</td>\n",
       "      <td>461</td>\n",
       "      <td>2</td>\n",
       "      <td>4</td>\n",
       "      <td>124</td>\n",
       "      <td>51</td>\n",
       "      <td>5</td>\n",
       "      <td>106</td>\n",
       "      <td>35</td>\n",
       "      <td>11</td>\n",
       "      <td>86</td>\n",
       "    </tr>\n",
       "    <tr>\n",
       "      <th>top</th>\n",
       "      <td>14/15</td>\n",
       "      <td>LaLiga</td>\n",
       "      <td>Group Stage</td>\n",
       "      <td>9/12/15</td>\n",
       "      <td>H</td>\n",
       "      <td>Real Madrid</td>\n",
       "      <td>Sevilla FC</td>\n",
       "      <td>3:0</td>\n",
       "      <td>LW</td>\n",
       "      <td>90</td>\n",
       "      <td>1:0</td>\n",
       "      <td>Right-footed shot</td>\n",
       "      <td>Karim Benzema</td>\n",
       "    </tr>\n",
       "    <tr>\n",
       "      <th>freq</th>\n",
       "      <td>61</td>\n",
       "      <td>311</td>\n",
       "      <td>73</td>\n",
       "      <td>5</td>\n",
       "      <td>402</td>\n",
       "      <td>450</td>\n",
       "      <td>27</td>\n",
       "      <td>49</td>\n",
       "      <td>356</td>\n",
       "      <td>17</td>\n",
       "      <td>111</td>\n",
       "      <td>251</td>\n",
       "      <td>44</td>\n",
       "    </tr>\n",
       "  </tbody>\n",
       "</table>\n",
       "</div>"
      ],
      "text/plain": [
       "       Season Competition     Matchday     Date Venue         Club  \\\n",
       "count     698         698          698      698   698          698   \n",
       "unique     20          15           52      461     2            4   \n",
       "top     14/15      LaLiga  Group Stage  9/12/15     H  Real Madrid   \n",
       "freq       61         311           73        5   402          450   \n",
       "\n",
       "          Opponent Result Playing_Position Minute At_score               Type  \\\n",
       "count          698    698              641    698      698                683   \n",
       "unique         124     51                5    106       35                 11   \n",
       "top     Sevilla FC    3:0               LW     90      1:0  Right-footed shot   \n",
       "freq            27     49              356     17      111                251   \n",
       "\n",
       "          Goal_assist  \n",
       "count             458  \n",
       "unique             86  \n",
       "top     Karim Benzema  \n",
       "freq               44  "
      ]
     },
     "execution_count": 431,
     "metadata": {},
     "output_type": "execute_result"
    }
   ],
   "source": [
    "raw_CR7.describe()"
   ]
  },
  {
   "cell_type": "code",
   "execution_count": 432,
   "metadata": {},
   "outputs": [
    {
     "data": {
      "text/html": [
       "<div>\n",
       "<style scoped>\n",
       "    .dataframe tbody tr th:only-of-type {\n",
       "        vertical-align: middle;\n",
       "    }\n",
       "\n",
       "    .dataframe tbody tr th {\n",
       "        vertical-align: top;\n",
       "    }\n",
       "\n",
       "    .dataframe thead th {\n",
       "        text-align: right;\n",
       "    }\n",
       "</style>\n",
       "<table border=\"1\" class=\"dataframe\">\n",
       "  <thead>\n",
       "    <tr style=\"text-align: right;\">\n",
       "      <th></th>\n",
       "      <th>Season</th>\n",
       "      <th>Competition</th>\n",
       "      <th>Matchday</th>\n",
       "      <th>Date</th>\n",
       "      <th>Venue</th>\n",
       "      <th>Club</th>\n",
       "      <th>Opponent</th>\n",
       "      <th>Result</th>\n",
       "      <th>Playing_Position</th>\n",
       "      <th>Minute</th>\n",
       "      <th>At_score</th>\n",
       "      <th>Type</th>\n",
       "      <th>Goal_assist</th>\n",
       "    </tr>\n",
       "  </thead>\n",
       "  <tbody>\n",
       "    <tr>\n",
       "      <th>count</th>\n",
       "      <td>683</td>\n",
       "      <td>683</td>\n",
       "      <td>683</td>\n",
       "      <td>683</td>\n",
       "      <td>683</td>\n",
       "      <td>683</td>\n",
       "      <td>683</td>\n",
       "      <td>683</td>\n",
       "      <td>683</td>\n",
       "      <td>683</td>\n",
       "      <td>683</td>\n",
       "      <td>682</td>\n",
       "      <td>474</td>\n",
       "    </tr>\n",
       "    <tr>\n",
       "      <th>unique</th>\n",
       "      <td>18</td>\n",
       "      <td>7</td>\n",
       "      <td>48</td>\n",
       "      <td>439</td>\n",
       "      <td>2</td>\n",
       "      <td>2</td>\n",
       "      <td>88</td>\n",
       "      <td>46</td>\n",
       "      <td>9</td>\n",
       "      <td>96</td>\n",
       "      <td>38</td>\n",
       "      <td>12</td>\n",
       "      <td>64</td>\n",
       "    </tr>\n",
       "    <tr>\n",
       "      <th>top</th>\n",
       "      <td>11/12</td>\n",
       "      <td>LaLiga</td>\n",
       "      <td>Group Stage</td>\n",
       "      <td>3/7/12</td>\n",
       "      <td>H</td>\n",
       "      <td>FC Barcelona</td>\n",
       "      <td>Sevilla FC</td>\n",
       "      <td>4:0</td>\n",
       "      <td>CF</td>\n",
       "      <td>55</td>\n",
       "      <td>1:0</td>\n",
       "      <td>Left-footed shot</td>\n",
       "      <td>Luis Suarez</td>\n",
       "    </tr>\n",
       "    <tr>\n",
       "      <th>freq</th>\n",
       "      <td>73</td>\n",
       "      <td>474</td>\n",
       "      <td>76</td>\n",
       "      <td>5</td>\n",
       "      <td>410</td>\n",
       "      <td>672</td>\n",
       "      <td>38</td>\n",
       "      <td>45</td>\n",
       "      <td>266</td>\n",
       "      <td>13</td>\n",
       "      <td>96</td>\n",
       "      <td>422</td>\n",
       "      <td>48</td>\n",
       "    </tr>\n",
       "  </tbody>\n",
       "</table>\n",
       "</div>"
      ],
      "text/plain": [
       "       Season Competition     Matchday    Date Venue          Club  \\\n",
       "count     683         683          683     683   683           683   \n",
       "unique     18           7           48     439     2             2   \n",
       "top     11/12      LaLiga  Group Stage  3/7/12     H  FC Barcelona   \n",
       "freq       73         474           76       5   410           672   \n",
       "\n",
       "          Opponent Result Playing_Position Minute At_score              Type  \\\n",
       "count          683    683              683    683      683               682   \n",
       "unique          88     46                9     96       38                12   \n",
       "top     Sevilla FC    4:0               CF     55      1:0  Left-footed shot   \n",
       "freq            38     45              266     13       96               422   \n",
       "\n",
       "        Goal_assist  \n",
       "count           474  \n",
       "unique           64  \n",
       "top     Luis Suarez  \n",
       "freq             48  "
      ]
     },
     "execution_count": 432,
     "metadata": {},
     "output_type": "execute_result"
    }
   ],
   "source": [
    "raw_Messi.describe()"
   ]
  },
  {
   "cell_type": "markdown",
   "metadata": {},
   "source": [
    "Formatting Columns Names"
   ]
  },
  {
   "cell_type": "code",
   "execution_count": 433,
   "metadata": {},
   "outputs": [],
   "source": [
    "raw_CR7.columns=raw_CR7.columns.str.replace('Minute','Minutes')\n",
    "raw_CR7.columns=raw_CR7.columns.str.replace('At_score','Score At')\n",
    "raw_CR7.columns=raw_CR7.columns.str.replace('_',' ')\n",
    "raw_Messi.columns=raw_Messi.columns.str.replace('Minute','Minutes')\n",
    "raw_Messi.columns=raw_Messi.columns.str.replace('At_score','Score At')\n",
    "raw_Messi.columns=raw_Messi.columns.str.replace('_',' ')"
   ]
  },
  {
   "cell_type": "markdown",
   "metadata": {},
   "source": [
    "Seasons"
   ]
  },
  {
   "cell_type": "code",
   "execution_count": 434,
   "metadata": {},
   "outputs": [
    {
     "data": {
      "text/plain": [
       "array(['02/03', '03/04', '04/05', '05/06', '06/07', '07/08', '08/09',\n",
       "       '09/10', '10/11', '11/12', '12/13', '13/14', '14/15', '15/16',\n",
       "       '16/17', '17/18', '18/19', '19/20', '20/21', '21/22'], dtype=object)"
      ]
     },
     "execution_count": 434,
     "metadata": {},
     "output_type": "execute_result"
    }
   ],
   "source": [
    "pd.unique(raw_CR7['Season'])"
   ]
  },
  {
   "cell_type": "code",
   "execution_count": 435,
   "metadata": {},
   "outputs": [
    {
     "data": {
      "text/plain": [
       "array(['04/05', '05/06', '06/07', '07/08', '08/09', '09/10', '10/11',\n",
       "       '11/12', '12/13', '13/14', '14/15', '15/16', '16/17', '17/18',\n",
       "       '18/19', '19/20', '20/21', '21/22'], dtype=object)"
      ]
     },
     "execution_count": 435,
     "metadata": {},
     "output_type": "execute_result"
    }
   ],
   "source": [
    "pd.unique(raw_Messi['Season'])"
   ]
  },
  {
   "cell_type": "markdown",
   "metadata": {},
   "source": [
    "Competitions"
   ]
  },
  {
   "cell_type": "code",
   "execution_count": 436,
   "metadata": {},
   "outputs": [
    {
     "data": {
      "text/plain": [
       "array(['Liga Portugal', 'Taca de Portugal Placard', 'Premier League',\n",
       "       'FA Cup', 'UEFA Champions League Qualifying', 'EFL Cup',\n",
       "       'UEFA Champions League', 'FIFA Club World Cup', 'LaLiga',\n",
       "       'Copa del Rey', 'Supercopa', 'UEFA Super Cup', 'Serie A',\n",
       "       'Supercoppa Italiana', 'Italy Cup'], dtype=object)"
      ]
     },
     "execution_count": 436,
     "metadata": {},
     "output_type": "execute_result"
    }
   ],
   "source": [
    "pd.unique(raw_CR7['Competition'])"
   ]
  },
  {
   "cell_type": "code",
   "execution_count": 437,
   "metadata": {},
   "outputs": [
    {
     "data": {
      "text/plain": [
       "array(['LaLiga', 'UEFA Champions League', 'Copa del Rey', 'Supercopa',\n",
       "       'FIFA Club World Cup', 'UEFA Super Cup', 'Ligue 1'], dtype=object)"
      ]
     },
     "execution_count": 437,
     "metadata": {},
     "output_type": "execute_result"
    }
   ],
   "source": [
    "pd.unique(raw_Messi['Competition'])"
   ]
  },
  {
   "cell_type": "markdown",
   "metadata": {},
   "source": [
    "Opponent"
   ]
  },
  {
   "cell_type": "code",
   "execution_count": 438,
   "metadata": {},
   "outputs": [
    {
     "data": {
      "text/plain": [
       "array(['Moreirense FC', 'Boavista FC', 'CD Estarreja',\n",
       "       'FC Oliveira do Hospital', 'Portsmouth FC', 'Manchester City',\n",
       "       'Tottenham Hotspur', 'Birmingham City', 'Aston Villa',\n",
       "       'Millwall FC', 'Southampton FC', 'Exeter City', 'Arsenal FC',\n",
       "       'Everton FC', 'Fulham FC', 'Newcastle United', 'Debreceni VSC',\n",
       "       'Middlesbrough FC', 'West Bromwich Albion', 'Bolton Wanderers',\n",
       "       'Wigan Athletic', 'Charlton Athletic', 'Reading FC', 'Watford FC',\n",
       "       'AS Roma', 'AC Milan', 'Sporting CP', 'Dynamo Kyiv',\n",
       "       'Blackburn Rovers', 'Derby County', 'Sunderland AFC',\n",
       "       'West Ham United', 'Olympique Lyon', 'Liverpool FC', 'Chelsea FC',\n",
       "       'Hull City', 'Stoke City', 'Gamba Osaka', 'FC Internazionale',\n",
       "       'FC Porto', 'Deportivo de La CoruÃ±a', 'RCD Espanyol Barcelona',\n",
       "       'FC ZÃ¼rich', 'Xerez CD', 'Villarreal CF', 'Olympique Marseille',\n",
       "       'UD Almeria', 'Real Zaragoza', 'Malaga CF', 'CD Tenerife',\n",
       "       'Sevilla FC', 'Real Valladolid CF', 'Getafe CF',\n",
       "       'Racing Santander', 'Valencia CF', 'CA Osasuna', 'RCD Mallorca',\n",
       "       'Athletic Bilbao', 'Hercules CF', 'Real Murcia CF',\n",
       "       'Ajax Amsterdam', 'AJ Auxerre', 'Levante UD', 'Atletico de Madrid',\n",
       "       'Real Sociedad', 'FC Barcelona', 'Rayo Vallecano',\n",
       "       'Sporting GijÃ³n', 'SD Ponferradina', 'Granada CF', 'CSKA Moscow',\n",
       "       'Real Betis Balompie', 'APOEL Nicosia', 'Bayern Munich',\n",
       "       'Celta de Vigo', 'Borussia Dortmund', 'Manchester United',\n",
       "       'Galatasaray', 'Elche CF', 'FC Copenhagen', 'Juventus FC',\n",
       "       'FC Schalke 04', 'CÃ³rdoba CF', 'FC Basel 1893',\n",
       "       'Ludogorets Razgrad', 'SD Eibar', 'Shakhtar Donetsk', 'MalmÃ¶ FF',\n",
       "       'UD Las Palmas', 'VfL Wolfsburg', 'Deportivo Alaves', 'CF America',\n",
       "       'Kashima Antlers', 'Al-Jazira (Abu Dhabi)',\n",
       "       'GrÃªmio Foot-Ball Porto Alegrense', 'Paris Saint-Germain',\n",
       "       'Girona FC', 'US Sassuolo', 'Frosinone Calcio', 'Udinese Calcio',\n",
       "       'Genoa CFC', 'Empoli FC ', 'SPAL', 'ACF Fiorentina', 'Torino FC',\n",
       "       'Atalanta BC', 'UC Sampdoria', 'SS Lazio', 'Parma Calcio 1913',\n",
       "       'Inter Milan', 'SSC Napoli', 'Hellas Verona',\n",
       "       'Bayer 04 Leverkusen', 'Bologna FC 1909', 'Cagliari Calcio',\n",
       "       'US Lecce', 'Spezia Calcio', 'Ferencvarosi TC', 'FC Crotone',\n",
       "       'BSC Young Boys', 'Norwich City', 'Burnley FC',\n",
       "       'Brighton & Hove Albion', 'Brentford FC'], dtype=object)"
      ]
     },
     "execution_count": 438,
     "metadata": {},
     "output_type": "execute_result"
    }
   ],
   "source": [
    "pd.unique(raw_CR7['Opponent'])\n"
   ]
  },
  {
   "cell_type": "code",
   "execution_count": 439,
   "metadata": {},
   "outputs": [
    {
     "data": {
      "text/plain": [
       "array(['Albacete Balompie', 'Panathinaikos Athens', 'Racing Santander',\n",
       "       'Athletic Bilbao', 'Deportivo Alaves', 'RCD Mallorca',\n",
       "       'Real Zaragoza', 'Real Betis Balompie', 'Celta de Vigo',\n",
       "       'CA Osasuna', 'SV Werder Bremen', 'Sevilla FC', 'Real Madrid',\n",
       "       'Recreativo Huelva', 'Deportivo de La Coruaa', 'Getafe CF',\n",
       "       'Atletico de Madrid', 'RCD Espanyol Barcelona',\n",
       "       'Gimnastic de Tarragona', 'Olympique Lyon', 'Levante UD',\n",
       "       'VfB Stuttgart', 'UD Almera', 'Rangers FC', 'Celtic FC',\n",
       "       'Valencia CF', 'Sporting GijÃ³n', 'Shakhtar Donetsk',\n",
       "       'FC Basel 1893', 'Malaga CF', 'Benidorm CD', 'Sporting CP',\n",
       "       'CD Numancia', 'Bayern Munich', 'Manchester United', 'Dynamo Kyiv',\n",
       "       'Cultural Leonesa', 'CF Atlante', 'Club Estudiantes de La Plata',\n",
       "       'CD Tenerife', 'Real Valladolid CF', 'Arsenal FC', 'Villarreal CF',\n",
       "       'FC Copenhagen', 'Club Atletico de Ceuta', 'Real Sociedad',\n",
       "       'Hercules CF', 'FC Porto', 'BATE Borisov', 'FC Viktoria Plzen',\n",
       "       'AC Milan', 'Rayo Vallecano', 'Santos FC', 'Bayer 04 Leverkusen',\n",
       "       'Granada CF', 'Spartak Moscow', 'CÃ³rdoba CF',\n",
       "       'Paris Saint-Germain', 'Ajax Amsterdam', 'Manchester City',\n",
       "       'Elche CF', 'SD Eibar', 'APOEL Nicosia', 'AS Roma',\n",
       "       'CA River Plate', 'CD Leganes', 'Borussia MÃ¶nchengladbach',\n",
       "       'UD Las Palmas', 'Juventus FC', 'Olympiacos Piraeus', 'Chelsea FC',\n",
       "       'Girona FC', 'SD Huesca', 'PSV Eindhoven', 'Tottenham Hotspur',\n",
       "       'Liverpool FC', 'SK Slavia Prague', 'Borussia Dortmund',\n",
       "       'SSC Napoli', 'Ferencvarosi TC', 'Cadiz CF', 'RB Leipzig',\n",
       "       'FC Nantes', 'Club Brugge KV', 'LOSC Lille', 'FC Lorient',\n",
       "       'RC Lens', 'Montpellier'], dtype=object)"
      ]
     },
     "execution_count": 439,
     "metadata": {},
     "output_type": "execute_result"
    }
   ],
   "source": [
    "pd.unique(raw_Messi['Opponent'])"
   ]
  },
  {
   "cell_type": "markdown",
   "metadata": {},
   "source": [
    "Match Day"
   ]
  },
  {
   "cell_type": "code",
   "execution_count": 440,
   "metadata": {},
   "outputs": [
    {
     "data": {
      "text/plain": [
       "array(['6', '8', 'Fourth Round', 'Fifth Round', '11', '29', '32', '38',\n",
       "       'Final', '16', 'Third Round', '24', '25', 'Sixth Round', '30',\n",
       "       'Semi-Finals', '3rd round', 'Round of 16', '20', '26', '28', '1',\n",
       "       '10', '15', '17', '19', '21', '23', '6th round', 'Quarter-Finals',\n",
       "       '37', 'Group Stage', '9', '12', '13', '18', '22', '27', 'last 16',\n",
       "       '31', '33', '34', '36', '2', '3', '4', '35', '7', '4th round',\n",
       "       '14', 'final', '5'], dtype=object)"
      ]
     },
     "execution_count": 440,
     "metadata": {},
     "output_type": "execute_result"
    }
   ],
   "source": [
    "pd.unique(raw_CR7['Matchday'])"
   ]
  },
  {
   "cell_type": "code",
   "execution_count": 441,
   "metadata": {},
   "outputs": [
    {
     "data": {
      "text/plain": [
       "array(['34', 'Group Stage', '13', '19', '20', '21', 'Quarter-Finals',\n",
       "       '24', '1', '2', '6', '26', '27', '28', 'Semi-Finals', '35', '37',\n",
       "       '38', '4', '5', '7', '9', 'last 16', '25', '3', 'Fifth Round',\n",
       "       '11', '15', 'Round of 16', '18', '31', '33', 'Final', 'final', '8',\n",
       "       '10', '5th round', '17', '30', '36', '4th round', '12', '14', '22',\n",
       "       '32', '29', '16', '23'], dtype=object)"
      ]
     },
     "execution_count": 441,
     "metadata": {},
     "output_type": "execute_result"
    }
   ],
   "source": [
    "pd.unique(raw_Messi['Matchday'])"
   ]
  },
  {
   "cell_type": "markdown",
   "metadata": {},
   "source": [
    "Goal Assist"
   ]
  },
  {
   "cell_type": "code",
   "execution_count": 442,
   "metadata": {},
   "outputs": [
    {
     "data": {
      "text/plain": [
       "array([nan, 'Rui Jorge', 'Carlos Martins', 'Cesar Prates', 'Ryan Giggs',\n",
       "       'Gary Neville', 'Paul Scholes', 'Louis Saha',\n",
       "       'Ruud van Nistelrooy', 'Roy Keane', 'Wayne Rooney', 'John OShea',\n",
       "       'Ji-sung Park', 'Ole Gunnar Solskjaer', 'Michael Carrick',\n",
       "       'Wes Brown', 'Patrice Evra', 'Carlos Tevez', 'Nemanja Vidicâ€Ž',\n",
       "       'Nani', 'Edwin van der Sar', 'Owen Hargreaves', 'Dimitar Berbatov',\n",
       "       'Anderson', 'Guti', 'Esteban Granero', 'Pepe', 'Karim Benzema',\n",
       "       'Gonzalo Higuain', 'Lassana Diarra', 'Ezequiel Garay', 'Kaka',\n",
       "       'Marcelo', 'Sergio Ramos', 'Mesut Ozil', 'Xabi Alonso',\n",
       "       'Angel Di Maria', 'Sergio Canales', 'Sami Khedira',\n",
       "       'alvaro Arbeloa', 'Fabio CoentrÃ£o', 'Jose CallejÃ³n',\n",
       "       'Luka Modric', 'Isco', 'Gareth Bale', 'Daniel Carvajal',\n",
       "       'James Rodriguez', 'Toni Kroos', 'Chicharito', 'Lucas Vazquez',\n",
       "       'Danilo', 'Jese', 'alvaro Morata', 'Nacho Fernandez',\n",
       "       'Mateo Kovacic', 'Marco Asensio', 'Casemiro', 'Borja Mayoral',\n",
       "       'Emre Can', 'Mario Mandzukic', 'Blaise Matuidi',\n",
       "       'Leonardo Bonucci', 'Miralem Pjanic', 'Giorgio Chiellini',\n",
       "       'Paulo Dybala', 'Federico Bernardeschi', 'JoÃ£o Cancelo',\n",
       "       'Leonardo Spinazzola', 'Douglas Costa', 'Rodrigo Bentancur',\n",
       "       'Alex Sandro', 'Juan Cuadrado', 'Aaron Ramsey', 'Merih Demiral',\n",
       "       'Federico Chiesa', 'Adrien Rabiot', 'Luke Shaw', 'Bruno Fernandes',\n",
       "       'Jesse Lingard', 'Mason Greenwood', 'Marcus Rashford',\n",
       "       'Scott McTominay', 'Fred', 'Jadon Sancho', 'Alex Telles',\n",
       "       'Anthony Elanga', 'Nemanja MatiÄ‡'], dtype=object)"
      ]
     },
     "execution_count": 442,
     "metadata": {},
     "output_type": "execute_result"
    }
   ],
   "source": [
    "pd.unique(raw_CR7['Goal assist'])"
   ]
  },
  {
   "cell_type": "code",
   "execution_count": 443,
   "metadata": {},
   "outputs": [
    {
     "data": {
      "text/plain": [
       "array(['Ronaldinho Gaacho', nan, 'Samuel Etoo', 'Mark van Bommel',\n",
       "       'Sylvinho', 'Ludovic Giuly', 'Andres Iniesta', 'Deco', 'Xavi',\n",
       "       'Giovanni van Bronckhorst', 'Gianluca Zambrotta', 'Thierry Henry',\n",
       "       'Bojan Krkic', 'Dani Alves', 'Aleksandr Hleb', 'Gerard Pique',\n",
       "       'Zlatan Ibrahimovic', 'Pedro', 'Ã‰ric Abidal', 'Yaya Toure',\n",
       "       'Seydou Keita', 'Maxwell', 'David Villa', 'Thiago', 'Adriano',\n",
       "       'Ibrahim Afellay', 'Sergio Busquets', 'Cesc Fabregas',\n",
       "       'Alexis Sanchez', 'Cristian Tello', 'Isaac Cuenca', 'Jordi Alba',\n",
       "       'Marta Montoya', 'Neymar', 'Alex Song', 'Antonio Amaya',\n",
       "       'Marc Bartra', 'Rafinha', 'Luis Suarez', 'Ivan Rakitic',\n",
       "       'Arda Turan', 'Munir El Haddadi', 'Lucas Digne', 'Sergi Roberto',\n",
       "       'Javier Mascherano', 'Paco Alcacer', 'Paulinho', 'Aleix Vidal',\n",
       "       'Denis Suarez', 'Ousmane Dembele', 'Philippe Coutinho',\n",
       "       'Arturo Vidal', 'Nelson Semedo', 'Malcom', 'Clement Lenglet',\n",
       "       'Antoine Griezmann', 'Arthur', 'Frenkie de Jong', 'Riqui Puig',\n",
       "       'Francisco TrincÃ£o', 'Pedri', 'Martin Braithwaite',\n",
       "       'Ilaix Moriba', 'Kylian Mbappe', 'Kylian Mbappé'], dtype=object)"
      ]
     },
     "execution_count": 443,
     "metadata": {},
     "output_type": "execute_result"
    }
   ],
   "source": [
    "pd.unique(raw_Messi['Goal assist'])"
   ]
  },
  {
   "cell_type": "markdown",
   "metadata": {},
   "source": [
    "Goal Types"
   ]
  },
  {
   "cell_type": "code",
   "execution_count": 444,
   "metadata": {},
   "outputs": [
    {
     "data": {
      "text/plain": [
       "array(['Solo run', 'Header', 'Right-footed shot', 'Left-footed shot', nan,\n",
       "       'Direct free kick', 'Tap-in', 'Penalty', 'Penalty rebound',\n",
       "       'Long distance kick', 'Counter attack goal',\n",
       "       'Deflected shot on goal'], dtype=object)"
      ]
     },
     "execution_count": 444,
     "metadata": {},
     "output_type": "execute_result"
    }
   ],
   "source": [
    "pd.unique(raw_CR7['Type'])"
   ]
  },
  {
   "cell_type": "code",
   "execution_count": 445,
   "metadata": {},
   "outputs": [
    {
     "data": {
      "text/plain": [
       "array(['Left-footed shot', 'Right-footed shot', 'Header', 'Solo run', nan,\n",
       "       'Penalty', 'Deflected shot on goal', 'Direct free kick',\n",
       "       'Penalty rebound', 'Counter attack goal', 'Chest', 'Tap-in',\n",
       "       'Long distance kick'], dtype=object)"
      ]
     },
     "execution_count": 445,
     "metadata": {},
     "output_type": "execute_result"
    }
   ],
   "source": [
    "pd.unique(raw_Messi['Type'])"
   ]
  },
  {
   "cell_type": "markdown",
   "metadata": {},
   "source": [
    "Playing Position"
   ]
  },
  {
   "cell_type": "code",
   "execution_count": 446,
   "metadata": {},
   "outputs": [
    {
     "data": {
      "text/plain": [
       "array(['LW', nan, 'RW', 'CF', 'LW ', 'CF '], dtype=object)"
      ]
     },
     "execution_count": 446,
     "metadata": {},
     "output_type": "execute_result"
    }
   ],
   "source": [
    "pd.unique(raw_CR7['Playing Position'])"
   ]
  },
  {
   "cell_type": "code",
   "execution_count": 447,
   "metadata": {},
   "outputs": [
    {
     "data": {
      "text/plain": [
       "array(['CF', 'RW', 'LW', 'SS', 'CF ', 'AM', 'RW ', 'AM ', 'SS '],\n",
       "      dtype=object)"
      ]
     },
     "execution_count": 447,
     "metadata": {},
     "output_type": "execute_result"
    }
   ],
   "source": [
    "pd.unique(raw_Messi['Playing Position'])"
   ]
  },
  {
   "cell_type": "markdown",
   "metadata": {},
   "source": [
    "DataFrame Size"
   ]
  },
  {
   "cell_type": "code",
   "execution_count": 448,
   "metadata": {},
   "outputs": [
    {
     "data": {
      "text/plain": [
       "(698, 13)"
      ]
     },
     "execution_count": 448,
     "metadata": {},
     "output_type": "execute_result"
    }
   ],
   "source": [
    "raw_CR7.shape"
   ]
  },
  {
   "cell_type": "code",
   "execution_count": 449,
   "metadata": {},
   "outputs": [
    {
     "data": {
      "text/plain": [
       "(683, 13)"
      ]
     },
     "execution_count": 449,
     "metadata": {},
     "output_type": "execute_result"
    }
   ],
   "source": [
    "raw_Messi.shape"
   ]
  },
  {
   "cell_type": "markdown",
   "metadata": {},
   "source": [
    "Summation of Duplicates"
   ]
  },
  {
   "cell_type": "code",
   "execution_count": 450,
   "metadata": {},
   "outputs": [
    {
     "data": {
      "text/plain": [
       "0"
      ]
     },
     "execution_count": 450,
     "metadata": {},
     "output_type": "execute_result"
    }
   ],
   "source": [
    "raw_CR7.duplicated().sum()"
   ]
  },
  {
   "cell_type": "code",
   "execution_count": 451,
   "metadata": {},
   "outputs": [
    {
     "data": {
      "text/plain": [
       "0"
      ]
     },
     "execution_count": 451,
     "metadata": {},
     "output_type": "execute_result"
    }
   ],
   "source": [
    "raw_Messi.duplicated().sum()"
   ]
  },
  {
   "cell_type": "markdown",
   "metadata": {},
   "source": [
    "No of Unknown Goal Assist"
   ]
  },
  {
   "cell_type": "code",
   "execution_count": 452,
   "metadata": {},
   "outputs": [
    {
     "data": {
      "text/plain": [
       "209"
      ]
     },
     "execution_count": 452,
     "metadata": {},
     "output_type": "execute_result"
    }
   ],
   "source": [
    "raw_Messi['Goal assist'].isnull().sum()"
   ]
  },
  {
   "cell_type": "code",
   "execution_count": 453,
   "metadata": {},
   "outputs": [
    {
     "data": {
      "text/plain": [
       "240"
      ]
     },
     "execution_count": 453,
     "metadata": {},
     "output_type": "execute_result"
    }
   ],
   "source": [
    "raw_CR7['Goal assist'].isnull().sum()"
   ]
  },
  {
   "cell_type": "markdown",
   "metadata": {},
   "source": [
    "----------------------------\n",
    "# CR7 Notes\n",
    "1. No problems in *Season*\n",
    "2. No problems in *Competition*\n",
    "3. No Duplicated rows\n",
    "4. *Missing* Data detected in   *Playing_Position*  ,  *Type*  ,  *Goal_assist*\n",
    "5. Playing Position has spaces\n",
    "6. Date mm/dd/yy Format and we can make it dd/mm/yyyy\n",
    "7. Some players names in  Goal Assist and clubs in Opponent.\n",
    "8. Add Panelty Column (bool).\n",
    "9. Goal Assist has nan values *(may be Some Goal does not need assist such as Penalty, Penalty rebound, Solo run, Long distance kick)*\n",
    "10. "
   ]
  },
  {
   "cell_type": "markdown",
   "metadata": {},
   "source": [
    "----------------------------\n",
    "# Messi Notes\n",
    "1. No problems in *Season*\n",
    "2. No problems in *Competition*\n",
    "3. No Duplicated rows\n",
    "4. *Missing* Data detected in  *Type*  ,  *Goal_assist*\n",
    "5. Playing Position has spaces\n",
    "6. Date mm/dd/yy Format and we can make it dd/mm/yyyy\n",
    "7. Some players names in  Goal Assist and clubs in Opponent.\n",
    "8. Add Panelty Column (bool).\n",
    "9. Goal Assist has nan values\n",
    "* may be Some Goal does not need assist such as Penalty, Penalty rebound, Solo run, Long distance kick*\n"
   ]
  },
  {
   "cell_type": "markdown",
   "metadata": {},
   "source": [
    "----------------------\n",
    "# Data Analysis "
   ]
  },
  {
   "cell_type": "markdown",
   "metadata": {},
   "source": [
    "Make Copy from DataFrames"
   ]
  },
  {
   "cell_type": "code",
   "execution_count": 454,
   "metadata": {},
   "outputs": [],
   "source": [
    "CR7=raw_CR7.copy()\n",
    "Messi=raw_Messi.copy()"
   ]
  },
  {
   "cell_type": "markdown",
   "metadata": {},
   "source": [
    "Removing Space from Playing Position"
   ]
  },
  {
   "cell_type": "code",
   "execution_count": 455,
   "metadata": {},
   "outputs": [],
   "source": [
    "for i in CR7.index[CR7['Playing Position'].notnull()]:\n",
    "  CR7['Playing Position'][i]=CR7['Playing Position'][i].strip() \n",
    "for i in Messi.index:\n",
    "  Messi['Playing Position'][i]=Messi['Playing Position'][i].strip() "
   ]
  },
  {
   "cell_type": "markdown",
   "metadata": {},
   "source": [
    "# Repairing NAN Playing Position CR7"
   ]
  },
  {
   "cell_type": "markdown",
   "metadata": {},
   "source": [
    "CR7 Unique Season "
   ]
  },
  {
   "cell_type": "code",
   "execution_count": 456,
   "metadata": {},
   "outputs": [],
   "source": [
    "A=pd.unique(CR7['Season'])"
   ]
  },
  {
   "cell_type": "code",
   "execution_count": 457,
   "metadata": {},
   "outputs": [],
   "source": [
    "X=CR7.groupby('Season')\n",
    "All_PP_Nan=CR7[CR7['Playing Position'].isnull()]\n",
    "for i in A:\n",
    "    A=All_PP_Nan[All_PP_Nan['Season']==i].index\n",
    "    CR7.loc[A,'Playing Position']=X.get_group(i)['Playing Position'].value_counts().idxmax()"
   ]
  },
  {
   "cell_type": "markdown",
   "metadata": {},
   "source": [
    "Repairing Players Names"
   ]
  },
  {
   "cell_type": "code",
   "execution_count": 458,
   "metadata": {},
   "outputs": [],
   "source": [
    "CR7 = CR7.replace(['Nemanja Vidicâ€Ž','JoÃ£o Cancelo','Nemanja MatiÄ‡','Jose CallejÃ³n','Fabio CoentrÃ£o'],\n",
    "                  ['Nemanja Vidić','José Callejón','Nemanja Matić','José Callejón','Fábio Coentrão'])\n",
    "\n",
    "Messi = Messi.replace(['Francisco TrincÃ£o','Ã‰ric Abidal'],\n",
    "                      ['Francisco Trincão','Eric Abidal ',])"
   ]
  },
  {
   "cell_type": "code",
   "execution_count": 459,
   "metadata": {},
   "outputs": [],
   "source": [
    "CR7=CR7.replace(['FC ZÃ¼rich','Deportivo de La CoruÃ±a','Sporting GijÃ³n','MalmÃ¶ FF','GrÃªmio Foot-Ball Porto Alegrense'],\n",
    "                ['FC Zürich','Deportivo de La Coruña','Sporting de Gijón','Malmö FF','Grêmio Foot-Ball Porto Alegrense'])\n",
    "\n",
    "\n",
    "Messi = Messi.replace(['CÃ³rdoba CF','Borussia MÃ¶nchengladbach','Sporting GijÃ³n'],\n",
    "                      ['Córdoba CF','Borussia Mönchengladbach','Sporting de Gijón'])"
   ]
  },
  {
   "cell_type": "code",
   "execution_count": 460,
   "metadata": {},
   "outputs": [],
   "source": [
    "for i in CR7.index:\n",
    "    CR7['Venue'][i]=re.sub('H','Home',CR7['Venue'][i])\n",
    "    CR7['Venue'][i]=re.sub('A','Away',CR7['Venue'][i])\n",
    "for i in Messi.index:\n",
    "    Messi['Venue'][i]=re.sub('H','Home',Messi['Venue'][i])\n",
    "    Messi['Venue'][i]=re.sub('A','Away',Messi['Venue'][i])"
   ]
  },
  {
   "cell_type": "markdown",
   "metadata": {},
   "source": [
    "Make No Assist For : *Penalty* , *free kick* , *Solo run*"
   ]
  },
  {
   "cell_type": "code",
   "execution_count": 461,
   "metadata": {},
   "outputs": [],
   "source": [
    "# Penalty_index=CR7.index[CR7['Type'] == 'Penalty']\n",
    "# free_kick_index=CR7.index[CR7['Type'] == 'free kick']\n",
    "# Solo_run_index=CR7.index[CR7['Type'] == 'Solo run']\n",
    "\n",
    "\n",
    "# CR7.loc[Penalty_index,'Goal assist']='No Assist'\n",
    "# CR7.loc[free_kick_index,'Goal assist']='No Assist'\n",
    "# CR7.loc[Solo_run_index,'Goal assist']='No Assist'"
   ]
  },
  {
   "cell_type": "code",
   "execution_count": 462,
   "metadata": {},
   "outputs": [],
   "source": [
    "# Penalty_index=Messi.index[Messi['Type'] == 'Penalty']\n",
    "# free_kick_index=Messi.index[Messi['Type'] == 'free kick']\n",
    "# Solo_run_index=Messi.index[Messi['Type'] == 'Solo run']\n",
    "\n",
    "\n",
    "# Messi.loc[Penalty_index,'Goal assist']='No Assist'\n",
    "# Messi.loc[free_kick_index,'Goal assist']='No Assist'\n",
    "# Messi.loc[Solo_run_index,'Goal assist']='No Assist'"
   ]
  },
  {
   "cell_type": "code",
   "execution_count": 463,
   "metadata": {},
   "outputs": [
    {
     "data": {
      "text/plain": [
       "240"
      ]
     },
     "execution_count": 463,
     "metadata": {},
     "output_type": "execute_result"
    }
   ],
   "source": [
    "CR7['Goal assist'].isnull().sum()"
   ]
  },
  {
   "cell_type": "code",
   "execution_count": 464,
   "metadata": {},
   "outputs": [
    {
     "data": {
      "text/plain": [
       "209"
      ]
     },
     "execution_count": 464,
     "metadata": {},
     "output_type": "execute_result"
    }
   ],
   "source": [
    "Messi['Goal assist'].isnull().sum()"
   ]
  },
  {
   "cell_type": "markdown",
   "metadata": {},
   "source": [
    "--------------------------\n",
    "# Notes\n",
    "Still There alot of Goal without Assist (So there are to options)\n",
    "1. Remove Assist Column From the analysis\n",
    "2. Keep the Not A Namber Assist as its in Raw Data (I Prefert this option)\n",
    "----------------------------------"
   ]
  },
  {
   "cell_type": "markdown",
   "metadata": {},
   "source": [
    "Repairing Goal Type (NAN)"
   ]
  },
  {
   "cell_type": "code",
   "execution_count": 465,
   "metadata": {},
   "outputs": [
    {
     "data": {
      "text/plain": [
       "1"
      ]
     },
     "execution_count": 465,
     "metadata": {},
     "output_type": "execute_result"
    }
   ],
   "source": [
    "Messi['Type'].isnull().sum()"
   ]
  },
  {
   "cell_type": "code",
   "execution_count": 466,
   "metadata": {},
   "outputs": [
    {
     "data": {
      "text/html": [
       "<div>\n",
       "<style scoped>\n",
       "    .dataframe tbody tr th:only-of-type {\n",
       "        vertical-align: middle;\n",
       "    }\n",
       "\n",
       "    .dataframe tbody tr th {\n",
       "        vertical-align: top;\n",
       "    }\n",
       "\n",
       "    .dataframe thead th {\n",
       "        text-align: right;\n",
       "    }\n",
       "</style>\n",
       "<table border=\"1\" class=\"dataframe\">\n",
       "  <thead>\n",
       "    <tr style=\"text-align: right;\">\n",
       "      <th></th>\n",
       "      <th>Season</th>\n",
       "      <th>Competition</th>\n",
       "      <th>Matchday</th>\n",
       "      <th>Date</th>\n",
       "      <th>Venue</th>\n",
       "      <th>Club</th>\n",
       "      <th>Opponent</th>\n",
       "      <th>Result</th>\n",
       "      <th>Playing Position</th>\n",
       "      <th>Minutes</th>\n",
       "      <th>Score At</th>\n",
       "      <th>Type</th>\n",
       "      <th>Goal assist</th>\n",
       "    </tr>\n",
       "  </thead>\n",
       "  <tbody>\n",
       "    <tr>\n",
       "      <th>22</th>\n",
       "      <td>06/07</td>\n",
       "      <td>LaLiga</td>\n",
       "      <td>37</td>\n",
       "      <td>6/9/07</td>\n",
       "      <td>Home</td>\n",
       "      <td>FC Barcelona</td>\n",
       "      <td>RCD Espanyol Barcelona</td>\n",
       "      <td>2:2</td>\n",
       "      <td>RW</td>\n",
       "      <td>43</td>\n",
       "      <td>1:1</td>\n",
       "      <td>NaN</td>\n",
       "      <td>Gianluca Zambrotta</td>\n",
       "    </tr>\n",
       "  </tbody>\n",
       "</table>\n",
       "</div>"
      ],
      "text/plain": [
       "   Season Competition Matchday    Date Venue          Club  \\\n",
       "22  06/07      LaLiga       37  6/9/07  Home  FC Barcelona   \n",
       "\n",
       "                  Opponent Result Playing Position Minutes Score At Type  \\\n",
       "22  RCD Espanyol Barcelona    2:2               RW      43      1:1  NaN   \n",
       "\n",
       "           Goal assist  \n",
       "22  Gianluca Zambrotta  "
      ]
     },
     "execution_count": 466,
     "metadata": {},
     "output_type": "execute_result"
    }
   ],
   "source": [
    "Messi[Messi['Type'].isnull()]"
   ]
  },
  {
   "cell_type": "markdown",
   "metadata": {},
   "source": [
    "for this video i find it hand goal\n",
    "https://www.youtube.com/watch?v=Vp2AJMrrKj4"
   ]
  },
  {
   "cell_type": "code",
   "execution_count": 467,
   "metadata": {},
   "outputs": [],
   "source": [
    "Messi.loc[22,'Type']= 'Hand'"
   ]
  },
  {
   "cell_type": "markdown",
   "metadata": {},
   "source": [
    "Reformatting the Data Column"
   ]
  },
  {
   "cell_type": "code",
   "execution_count": 468,
   "metadata": {},
   "outputs": [
    {
     "name": "stderr",
     "output_type": "stream",
     "text": [
      "C:\\Users\\MahmoudAshraf\\AppData\\Local\\Temp\\ipykernel_9160\\1807615292.py:2: FutureWarning: The pandas.datetime class is deprecated and will be removed from pandas in a future version. Import from datetime module instead.\n",
      "  A=pd.datetime.strptime(CR7['Date'][i], '%m/%d/%y')\n",
      "C:\\Users\\MahmoudAshraf\\AppData\\Local\\Temp\\ipykernel_9160\\1807615292.py:5: FutureWarning: The pandas.datetime class is deprecated and will be removed from pandas in a future version. Import from datetime module instead.\n",
      "  B=pd.datetime.strptime(Messi['Date'][x], '%m/%d/%y')\n"
     ]
    }
   ],
   "source": [
    "for i in CR7.index:\n",
    "    A=pd.datetime.strptime(CR7['Date'][i], '%m/%d/%y')\n",
    "    CR7['Date'][i]=A.strftime('%Y-%m-%d')\n",
    "for x in Messi.index:\n",
    "    B=pd.datetime.strptime(Messi['Date'][x], '%m/%d/%y')\n",
    "    Messi['Date'][x]=B.strftime('%Y-%m-%d')"
   ]
  },
  {
   "cell_type": "markdown",
   "metadata": {},
   "source": [
    "Reformatting the Season Column"
   ]
  },
  {
   "cell_type": "code",
   "execution_count": 469,
   "metadata": {},
   "outputs": [],
   "source": [
    "CR7.Season=CR7.Season.str.replace('/','_')\n",
    "Messi.Season=Messi.Season.str.replace('/','_')"
   ]
  },
  {
   "cell_type": "markdown",
   "metadata": {},
   "source": [
    "Reformatting the Score at Column"
   ]
  },
  {
   "cell_type": "code",
   "execution_count": 470,
   "metadata": {},
   "outputs": [
    {
     "name": "stderr",
     "output_type": "stream",
     "text": [
      "C:\\Users\\MahmoudAshraf\\AppData\\Local\\Temp\\ipykernel_9160\\3620186239.py:2: FutureWarning: The pandas.datetime class is deprecated and will be removed from pandas in a future version. Import from datetime module instead.\n",
      "  A=pd.datetime.strptime(CR7['Score At'][i], '%H:%M')\n",
      "C:\\Users\\MahmoudAshraf\\AppData\\Local\\Temp\\ipykernel_9160\\3620186239.py:5: FutureWarning: The pandas.datetime class is deprecated and will be removed from pandas in a future version. Import from datetime module instead.\n",
      "  B=pd.datetime.strptime(Messi['Score At'][x], '%H:%M')\n"
     ]
    }
   ],
   "source": [
    "for i in CR7.index:\n",
    "    A=pd.datetime.strptime(CR7['Score At'][i], '%H:%M')\n",
    "    CR7['Score At'][i]=A.strftime('%H:%M')\n",
    "for x in Messi.index:\n",
    "    B=pd.datetime.strptime(Messi['Score At'][x], '%H:%M')\n",
    "    Messi['Score At'][x]=B.strftime('%H:%M')"
   ]
  },
  {
   "cell_type": "markdown",
   "metadata": {},
   "source": [
    "Changing Clubs names"
   ]
  },
  {
   "cell_type": "code",
   "execution_count": 471,
   "metadata": {},
   "outputs": [],
   "source": [
    "CR7.Club=CR7.Club.replace(['Paris Saint-Germain','FC Barcelona'],\n",
    "                          ['PSG','Barca'])"
   ]
  },
  {
   "cell_type": "code",
   "execution_count": 472,
   "metadata": {},
   "outputs": [],
   "source": [
    "CR7.Club=CR7.Club.replace(['Manchester United','Real Madrid','Juventus FC'],\n",
    "                          ['Man.United','RM','Juv'])"
   ]
  },
  {
   "cell_type": "markdown",
   "metadata": {},
   "source": [
    "Saving Messi and CR7 DataFrames"
   ]
  },
  {
   "cell_type": "code",
   "execution_count": 473,
   "metadata": {},
   "outputs": [],
   "source": [
    "CR7.to_csv('Modified CR7.csv')\n",
    "Messi.to_csv('Modified Messi.csv')"
   ]
  },
  {
   "cell_type": "markdown",
   "metadata": {},
   "source": [
    "Add Player Name Column to the major DataFrame"
   ]
  },
  {
   "cell_type": "code",
   "execution_count": 474,
   "metadata": {},
   "outputs": [],
   "source": [
    "CR7['Player']='CR7'\n",
    "Messi['Player']='Messi'"
   ]
  },
  {
   "cell_type": "code",
   "execution_count": 475,
   "metadata": {},
   "outputs": [],
   "source": [
    "CR7_overall['Player']='CR7'\n",
    "Messi_overall['Player']='Messi'"
   ]
  },
  {
   "cell_type": "code",
   "execution_count": 476,
   "metadata": {},
   "outputs": [],
   "source": [
    "CR7['Penalty']=CR7['Type']=='Penalty'\n",
    "Messi['Penalty']=Messi['Type']=='Penalty'"
   ]
  },
  {
   "cell_type": "markdown",
   "metadata": {},
   "source": [
    "Marge DataFrames"
   ]
  },
  {
   "cell_type": "code",
   "execution_count": 477,
   "metadata": {},
   "outputs": [
    {
     "name": "stderr",
     "output_type": "stream",
     "text": [
      "C:\\Users\\MahmoudAshraf\\AppData\\Local\\Temp\\ipykernel_9160\\12969533.py:1: FutureWarning: The frame.append method is deprecated and will be removed from pandas in a future version. Use pandas.concat instead.\n",
      "  Total_data= CR7.append(Messi, ignore_index=True)\n",
      "C:\\Users\\MahmoudAshraf\\AppData\\Local\\Temp\\ipykernel_9160\\12969533.py:2: FutureWarning: The frame.append method is deprecated and will be removed from pandas in a future version. Use pandas.concat instead.\n",
      "  Total_overall=CR7_overall.append(Messi_overall, ignore_index=True)\n"
     ]
    }
   ],
   "source": [
    "Total_data= CR7.append(Messi, ignore_index=True)\n",
    "Total_overall=CR7_overall.append(Messi_overall, ignore_index=True)"
   ]
  },
  {
   "cell_type": "markdown",
   "metadata": {},
   "source": [
    "Saving The Total Data"
   ]
  },
  {
   "cell_type": "code",
   "execution_count": 478,
   "metadata": {},
   "outputs": [],
   "source": [
    "Total_data.to_csv('Total_data.csv')\n"
   ]
  },
  {
   "cell_type": "code",
   "execution_count": 479,
   "metadata": {},
   "outputs": [
    {
     "data": {
      "text/html": [
       "<div>\n",
       "<style scoped>\n",
       "    .dataframe tbody tr th:only-of-type {\n",
       "        vertical-align: middle;\n",
       "    }\n",
       "\n",
       "    .dataframe tbody tr th {\n",
       "        vertical-align: top;\n",
       "    }\n",
       "\n",
       "    .dataframe thead th {\n",
       "        text-align: right;\n",
       "    }\n",
       "</style>\n",
       "<table border=\"1\" class=\"dataframe\">\n",
       "  <thead>\n",
       "    <tr style=\"text-align: right;\">\n",
       "      <th></th>\n",
       "      <th>Matches</th>\n",
       "      <th>Goals</th>\n",
       "      <th>Wiins</th>\n",
       "      <th>Draws</th>\n",
       "      <th>Defeats</th>\n",
       "      <th>Points_average</th>\n",
       "      <th>Game_winning_goals</th>\n",
       "      <th>Player</th>\n",
       "    </tr>\n",
       "  </thead>\n",
       "  <tbody>\n",
       "    <tr>\n",
       "      <th>0</th>\n",
       "      <td>461</td>\n",
       "      <td>698</td>\n",
       "      <td>386</td>\n",
       "      <td>44</td>\n",
       "      <td>31</td>\n",
       "      <td>2.61</td>\n",
       "      <td>219</td>\n",
       "      <td>CR7</td>\n",
       "    </tr>\n",
       "    <tr>\n",
       "      <th>1</th>\n",
       "      <td>439</td>\n",
       "      <td>683</td>\n",
       "      <td>372</td>\n",
       "      <td>46</td>\n",
       "      <td>21</td>\n",
       "      <td>2.65</td>\n",
       "      <td>183</td>\n",
       "      <td>Messi</td>\n",
       "    </tr>\n",
       "  </tbody>\n",
       "</table>\n",
       "</div>"
      ],
      "text/plain": [
       "   Matches  Goals  Wiins  Draws  Defeats  Points_average  Game_winning_goals  \\\n",
       "0      461    698    386     44       31            2.61                 219   \n",
       "1      439    683    372     46       21            2.65                 183   \n",
       "\n",
       "  Player  \n",
       "0    CR7  \n",
       "1  Messi  "
      ]
     },
     "execution_count": 479,
     "metadata": {},
     "output_type": "execute_result"
    }
   ],
   "source": [
    "Total_overall"
   ]
  },
  {
   "cell_type": "code",
   "execution_count": 480,
   "metadata": {},
   "outputs": [],
   "source": [
    "Total_overall.to_csv('Total_overall.csv')"
   ]
  }
 ],
 "metadata": {
  "kernelspec": {
   "display_name": "Python 3.9.10 64-bit",
   "language": "python",
   "name": "python3"
  },
  "language_info": {
   "codemirror_mode": {
    "name": "ipython",
    "version": 3
   },
   "file_extension": ".py",
   "mimetype": "text/x-python",
   "name": "python",
   "nbconvert_exporter": "python",
   "pygments_lexer": "ipython3",
   "version": "3.9.10"
  },
  "orig_nbformat": 4,
  "vscode": {
   "interpreter": {
    "hash": "713d5413e0ec6de9fbbd46191808d81bc2f5abf47a93892e38efba0fb01f375b"
   }
  }
 },
 "nbformat": 4,
 "nbformat_minor": 2
}
